{
 "metadata": {
  "name": "",
  "signature": "sha256:311c3d6719bc423a970d9f385ce65b7a6f43c0fbb00f322471b8c346818d9349"
 },
 "nbformat": 3,
 "nbformat_minor": 0,
 "worksheets": [
  {
   "cells": [
    {
     "cell_type": "code",
     "collapsed": false,
     "input": [
      "import numpy as np\n",
      "import csv\n",
      "def load_data(path, is_training):\n",
      "    \"\"\"\n",
      "    is_training = \n",
      "        True:  Return raw Training Set and Labels\n",
      "        False: Return raw Test Set\n",
      "    \"\"\"\n",
      "    with open(path) as csvfile:\n",
      "        training_file = csv.DictReader(csvfile)\n",
      "        data = []\n",
      "        labels = []\n",
      "        for row in training_file:\n",
      "            if is_training:"
     ],
     "language": "python",
     "metadata": {},
     "outputs": [
      {
       "ename": "IndentationError",
       "evalue": "expected an indented block (<ipython-input-3-5fd50657c221>, line 14)",
       "output_type": "pyerr",
       "traceback": [
        "\u001b[0;36m  File \u001b[0;32m\"<ipython-input-3-5fd50657c221>\"\u001b[0;36m, line \u001b[0;32m14\u001b[0m\n\u001b[0;31m    if is_training:\u001b[0m\n\u001b[0m                   ^\u001b[0m\n\u001b[0;31mIndentationError\u001b[0m\u001b[0;31m:\u001b[0m expected an indented block\n"
       ]
      }
     ],
     "prompt_number": 3
    },
    {
     "cell_type": "code",
     "collapsed": false,
     "input": [],
     "language": "python",
     "metadata": {},
     "outputs": []
    }
   ],
   "metadata": {}
  }
 ]
}