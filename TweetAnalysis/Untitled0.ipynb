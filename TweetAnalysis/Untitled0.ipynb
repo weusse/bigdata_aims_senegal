{
 "metadata": {
  "name": "",
  "signature": "sha256:293b57daabbc79fcf6e3f76d2cf01cb9fc8071d5ce51d737a2832fb58e775ec7"
 },
 "nbformat": 3,
 "nbformat_minor": 0,
 "worksheets": [
  {
   "cells": [
    {
     "cell_type": "code",
     "collapsed": false,
     "input": [
      "%matplotlib inline\n",
      "import numpy as np\n",
      "import json\n",
      "import pandas as pd\n",
      "import matplotlib.pyplot as plt\n",
      "tweets_data_path = '../data/africa_ethiopia_tweets.txt'"
     ],
     "language": "python",
     "metadata": {},
     "outputs": [],
     "prompt_number": 1
    },
    {
     "cell_type": "code",
     "collapsed": false,
     "input": [],
     "language": "python",
     "metadata": {},
     "outputs": []
    }
   ],
   "metadata": {}
  }
 ]
}