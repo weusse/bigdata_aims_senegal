{
 "metadata": {
  "name": "",
  "signature": "sha256:9ac02e579c99b425e290f55e8e82961f003d9a822cdd614b3ac01520ace80caa"
 },
 "nbformat": 3,
 "nbformat_minor": 0,
 "worksheets": [
  {
   "cells": [
    {
     "cell_type": "code",
     "collapsed": false,
     "input": [
      "import pandas as pd\n",
      "\n",
      "pd.read_CSV('UN.csv')"
     ],
     "language": "python",
     "metadata": {},
     "outputs": []
    }
   ],
   "metadata": {}
  }
 ]
}