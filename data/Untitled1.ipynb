{
 "metadata": {
  "name": "",
  "signature": "sha256:dc69dddb939a71e5d90aead1974701e30812a05671dab3332d1fcbbdd1b91f58"
 },
 "nbformat": 3,
 "nbformat_minor": 0,
 "worksheets": []
}